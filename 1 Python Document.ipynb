{
 "cells": [
  {
   "cell_type": "markdown",
   "metadata": {
    "id": "_lYdFHgunI4C"
   },
   "source": [
    "# Week 2 - Monday Lesson (variable assignment, loops, lists)"
   ]
  },
  {
   "cell_type": "markdown",
   "metadata": {
    "id": "TlykrWUwnI4F"
   },
   "source": [
    "## Tasks Today:\n",
    "\n",
    "1) Int & Float assignments <br>\n",
    " &nbsp;&nbsp;&nbsp;&nbsp; a) Assigning int <br>\n",
    " &nbsp;&nbsp;&nbsp;&nbsp; b) Assigning float <br>\n",
    " &nbsp;&nbsp;&nbsp;&nbsp; c) Performing Calculations on ints and floats <br>\n",
    " &nbsp;&nbsp;&nbsp;&nbsp;&nbsp;&nbsp;&nbsp;&nbsp; - Addition <br>\n",
    " &nbsp;&nbsp;&nbsp;&nbsp;&nbsp;&nbsp;&nbsp;&nbsp; - Subtraction <br>\n",
    " &nbsp;&nbsp;&nbsp;&nbsp;&nbsp;&nbsp;&nbsp;&nbsp; - Multiplication <br>\n",
    " &nbsp;&nbsp;&nbsp;&nbsp;&nbsp;&nbsp;&nbsp;&nbsp; - Division <br>\n",
    " &nbsp;&nbsp;&nbsp;&nbsp;&nbsp;&nbsp;&nbsp;&nbsp; - Floor Division <br>\n",
    " &nbsp;&nbsp;&nbsp;&nbsp;&nbsp;&nbsp;&nbsp;&nbsp; - Modulo <br>\n",
    " &nbsp;&nbsp;&nbsp;&nbsp;&nbsp;&nbsp;&nbsp;&nbsp; - Exponential <br>\n",
    "2) String Input-Output <br>\n",
    " &nbsp;&nbsp;&nbsp;&nbsp; a) String Assignment <br>\n",
    " &nbsp;&nbsp;&nbsp;&nbsp; b) print() <br>\n",
    " &nbsp;&nbsp;&nbsp;&nbsp; c) String Concatenation <br>\n",
    " &nbsp;&nbsp;&nbsp;&nbsp; d) Type Conversion <br>\n",
    " &nbsp;&nbsp;&nbsp;&nbsp; e) input() <br>\n",
    " &nbsp;&nbsp;&nbsp;&nbsp; f) format() <br>\n",
    " &nbsp;&nbsp;&nbsp;&nbsp; g) Old Way (python 2) <br>\n",
    "3) <b>In-Class Exercise #1</b> <br>\n",
    "4) If Statements <br>\n",
    " &nbsp;&nbsp;&nbsp;&nbsp; a) 'is' keyword <br>\n",
    " &nbsp;&nbsp;&nbsp;&nbsp; b) 'in' keyword <br>\n",
    " &nbsp;&nbsp;&nbsp;&nbsp; c) 'not in' keyword <br>\n",
    "5) <b>In-Class Exercise #2</b> <br>\n",
    "6) Elif Statements <br>\n",
    "7) Else Statements <br>\n",
    "8) <b>In-Class Exercise #3</b> <br>\n",
    "9) For Loops <br>\n",
    " &nbsp;&nbsp;&nbsp;&nbsp; a) Using 'in' keyword <br>\n",
    " &nbsp;&nbsp;&nbsp;&nbsp; b) Continue Statement <br>\n",
    " &nbsp;&nbsp;&nbsp;&nbsp; c) Break Statement <br>\n",
    " &nbsp;&nbsp;&nbsp;&nbsp; d) Pass Statement <br>\n",
    " &nbsp;&nbsp;&nbsp;&nbsp; e) Double For Loops <br>\n",
    "10) While Loops <br>\n",
    " &nbsp;&nbsp;&nbsp;&nbsp; a) Looping 'While True' <br>\n",
    " &nbsp;&nbsp;&nbsp;&nbsp; b) While and For Loops Used Together <br>\n",
    "11) Built-In Functions <br>\n",
    " &nbsp;&nbsp;&nbsp;&nbsp; a) range() <br>\n",
    " &nbsp;&nbsp;&nbsp;&nbsp; b) len() <br>\n",
    " &nbsp;&nbsp;&nbsp;&nbsp; c) help() <br>\n",
    " &nbsp;&nbsp;&nbsp;&nbsp; d) isinstance() <br>\n",
    " &nbsp;&nbsp;&nbsp;&nbsp; e) abs() <br>\n",
    "12) Try and Except <br>\n",
    "13) Lists <br>\n",
    " &nbsp;&nbsp;&nbsp;&nbsp; a) Declaring Lists <br>\n",
    " &nbsp;&nbsp;&nbsp;&nbsp; b) Indexing a List <br>\n",
    " &nbsp;&nbsp;&nbsp;&nbsp; c) .append() <br>\n",
    " &nbsp;&nbsp;&nbsp;&nbsp; d) .insert() <br>\n",
    " &nbsp;&nbsp;&nbsp;&nbsp; e) .pop() <br>\n",
    " &nbsp;&nbsp;&nbsp;&nbsp; f) .remove() <br>\n",
    " &nbsp;&nbsp;&nbsp;&nbsp; g) del() <br>\n",
    " &nbsp;&nbsp;&nbsp;&nbsp; h) Concatenating Two Lists <br>\n",
    " &nbsp;&nbsp;&nbsp;&nbsp; i) Lists Within Lists <br>\n",
    " &nbsp;&nbsp;&nbsp;&nbsp; j) Looping Through Lists <br>"
   ]
  },
  {
   "cell_type": "markdown",
   "metadata": {
    "id": "GA5PihKinI4G"
   },
   "source": [
    "### Int & Float Assignments"
   ]
  },
  {
   "cell_type": "markdown",
   "metadata": {
    "id": "MBzSQCTtnI4H"
   },
   "source": [
    "##### Assigning int"
   ]
  },
  {
   "cell_type": "code",
   "execution_count": 1,
   "metadata": {
    "id": "FyCfMo3InI4H"
   },
   "outputs": [
    {
     "name": "stdout",
     "output_type": "stream",
     "text": [
      "5\n"
     ]
    }
   ],
   "source": [
    "number = 5\n",
    "\n",
    "print(number)"
   ]
  },
  {
   "cell_type": "markdown",
   "metadata": {
    "id": "Dgtlwu50nI4H"
   },
   "source": [
    "##### Assinging float"
   ]
  },
  {
   "cell_type": "code",
   "execution_count": 3,
   "metadata": {
    "id": "vYTVDEiLnI4I"
   },
   "outputs": [
    {
     "name": "stdout",
     "output_type": "stream",
     "text": [
      "3.5\n",
      "7.2\n"
     ]
    }
   ],
   "source": [
    "numberFloat = 3.5\n",
    "\n",
    "print(numberFloat)\n",
    "\n",
    "numberFloat = 7.2\n",
    "print(numberFloat)"
   ]
  },
  {
   "cell_type": "markdown",
   "metadata": {
    "id": "sxotyKienI4I"
   },
   "source": [
    "#### Performing Calculations on ints and floats"
   ]
  },
  {
   "cell_type": "markdown",
   "metadata": {
    "id": "1c23vPBBnI4I"
   },
   "source": [
    "##### Addition"
   ]
  },
  {
   "cell_type": "code",
   "execution_count": 10,
   "metadata": {
    "id": "YVC-9L-WnI4J"
   },
   "outputs": [
    {
     "name": "stdout",
     "output_type": "stream",
     "text": [
      "8.4\n",
      "10.4\n"
     ]
    }
   ],
   "source": [
    "num1 = 5\n",
    "num2 = 3.4\n",
    "\n",
    "result = num1 + num2\n",
    "print(result)\n",
    "\n",
    "result +=2\n",
    "print(result)"
   ]
  },
  {
   "cell_type": "markdown",
   "metadata": {
    "id": "SCIuJb8PnI4J"
   },
   "source": [
    "##### Subtraction"
   ]
  },
  {
   "cell_type": "code",
   "execution_count": 13,
   "metadata": {
    "id": "ECSRAlR_nI4J"
   },
   "outputs": [
    {
     "name": "stdout",
     "output_type": "stream",
     "text": [
      "1.6\n",
      "-0.3999999999999999\n"
     ]
    }
   ],
   "source": [
    "diff_result = num1 - num2\n",
    "print(diff_result)\n",
    "\n",
    "diff_result -= 1\n",
    "print(diff_result-1)"
   ]
  },
  {
   "cell_type": "markdown",
   "metadata": {
    "id": "c1yyzTdhnI4J"
   },
   "source": [
    "##### Multiplication"
   ]
  },
  {
   "cell_type": "code",
   "execution_count": 15,
   "metadata": {
    "id": "ijJnczz_nI4J"
   },
   "outputs": [
    {
     "name": "stdout",
     "output_type": "stream",
     "text": [
      "17.0\n",
      "34.0\n"
     ]
    }
   ],
   "source": [
    "mul_result = num1 * num2\n",
    "print(mul_result)\n",
    "\n",
    "mul_result *=2\n",
    "print(mul_result)"
   ]
  },
  {
   "cell_type": "markdown",
   "metadata": {
    "id": "THJ8NwqDnI4J"
   },
   "source": [
    "##### Division"
   ]
  },
  {
   "cell_type": "code",
   "execution_count": 19,
   "metadata": {
    "id": "XKEL8XWknI4J"
   },
   "outputs": [
    {
     "name": "stdout",
     "output_type": "stream",
     "text": [
      "1.4705882352941178\n",
      "0.7352941176470589\n"
     ]
    }
   ],
   "source": [
    "div_result = num1/num2\n",
    "print(div_result)\n",
    "\n",
    "div_result /=2\n",
    "print(div_result)"
   ]
  },
  {
   "cell_type": "markdown",
   "metadata": {
    "id": "Tz75gZabnI4J"
   },
   "source": [
    "##### Floor Division"
   ]
  },
  {
   "cell_type": "code",
   "execution_count": 22,
   "metadata": {
    "id": "OpemhUHcnI4J"
   },
   "outputs": [
    {
     "name": "stdout",
     "output_type": "stream",
     "text": [
      "1.0\n",
      "0.0\n"
     ]
    }
   ],
   "source": [
    "floor_result = num1 // num2\n",
    "print(floor_result)\n",
    "\n",
    "floor_result //=2\n",
    "print(floor_result)"
   ]
  },
  {
   "cell_type": "markdown",
   "metadata": {
    "id": "yEY_cTvunI4K"
   },
   "source": [
    "##### Modulo"
   ]
  },
  {
   "cell_type": "code",
   "execution_count": 41,
   "metadata": {
    "id": "mAaZNsvOnI4K"
   },
   "outputs": [
    {
     "name": "stdout",
     "output_type": "stream",
     "text": [
      "2\n",
      "0.5\n"
     ]
    }
   ],
   "source": [
    "num1 = 10\n",
    "num2 = 4\n",
    "Mod_Result = num1 % num2\n",
    "print(Mod_Result)\n",
    "\n",
    "Mod_Result %=1.5\n",
    "print(Mod_Result)\n"
   ]
  },
  {
   "cell_type": "markdown",
   "metadata": {
    "id": "6Y0p5PXtnI4K"
   },
   "source": [
    "##### Exponential"
   ]
  },
  {
   "cell_type": "code",
   "execution_count": 44,
   "metadata": {
    "id": "ivxWicu2nI4K"
   },
   "outputs": [
    {
     "name": "stdout",
     "output_type": "stream",
     "text": [
      "125\n",
      "15625\n"
     ]
    }
   ],
   "source": [
    "square = 5 ** 3\n",
    "print(square)\n",
    "\n",
    "square **=2\n",
    "print(square)"
   ]
  },
  {
   "cell_type": "markdown",
   "metadata": {
    "id": "aUMz5XQknI4K"
   },
   "source": [
    "### String Input-Output"
   ]
  },
  {
   "cell_type": "markdown",
   "metadata": {
    "id": "2BJ5uk0MnI4K"
   },
   "source": [
    "##### String Assignment"
   ]
  },
  {
   "cell_type": "code",
   "execution_count": 45,
   "metadata": {
    "id": "tqQHSjrMnI4K"
   },
   "outputs": [
    {
     "name": "stdout",
     "output_type": "stream",
     "text": [
      "Aparna\n"
     ]
    }
   ],
   "source": [
    "name = \"Aparna\"\n",
    "print(name)"
   ]
  },
  {
   "cell_type": "markdown",
   "metadata": {
    "id": "CTG5ebeDnI4K"
   },
   "source": [
    "##### print() <br>\n",
    "<p>Don't forget about end=' '</p>"
   ]
  },
  {
   "cell_type": "code",
   "execution_count": 51,
   "metadata": {
    "id": "j9LsUwpWnI4K"
   },
   "outputs": [
    {
     "name": "stdout",
     "output_type": "stream",
     "text": [
      "My first name is Aparna\n",
      "My Full name is Aparna Akula"
     ]
    }
   ],
   "source": [
    "print(\"My first name is\" ,name)\n",
    "print(\"My Full name is\" , name , end=\" Akula\")"
   ]
  },
  {
   "cell_type": "markdown",
   "metadata": {
    "id": "8ZBbO2bdnI4K"
   },
   "source": [
    "##### String Concatenation"
   ]
  },
  {
   "cell_type": "code",
   "execution_count": 4,
   "metadata": {
    "id": "lEJTg5ZAnI4K"
   },
   "outputs": [
    {
     "name": "stdout",
     "output_type": "stream",
     "text": [
      "Aparna Akula\n",
      "Aparna Akula Mrs\n"
     ]
    }
   ],
   "source": [
    "first_name = 'Aparna'\n",
    "last_name = 'Akula'\n",
    "\n",
    "full_name = first_name + \" \" + last_name\n",
    "print(full_name)\n",
    "\n",
    "full_name += \" Mrs\"\n",
    "print(full_name)"
   ]
  },
  {
   "cell_type": "markdown",
   "metadata": {
    "id": "Cgp68WgfnI4K"
   },
   "source": [
    "##### Type Conversion"
   ]
  },
  {
   "cell_type": "code",
   "execution_count": 13,
   "metadata": {
    "id": "K3n6iLMInI4K"
   },
   "outputs": [
    {
     "name": "stdout",
     "output_type": "stream",
     "text": [
      "33\n",
      "34\n"
     ]
    }
   ],
   "source": [
    "number = '33'\n",
    "\n",
    "change_type_number = int(number)\n",
    "print(change_type_number)\n",
    "\n",
    "change_type_number +=1\n",
    "print(change_type_number)\n"
   ]
  },
  {
   "cell_type": "markdown",
   "metadata": {
    "id": "crZkhLp-nI4K"
   },
   "source": [
    "##### input()"
   ]
  },
  {
   "cell_type": "code",
   "execution_count": 14,
   "metadata": {
    "id": "ZxqHUvzinI4K"
   },
   "outputs": [
    {
     "name": "stdout",
     "output_type": "stream",
     "text": [
      "What is your age?: 33\n",
      "38\n"
     ]
    }
   ],
   "source": [
    "# name = input(\"What is your name?\")\n",
    "# print(name + \" \" + \"is a good girl\")\n",
    "\n",
    "age = int(input(\"What is your age?: \"))\n",
    "add_age = age + 5\n",
    "print(add_age)"
   ]
  },
  {
   "cell_type": "markdown",
   "metadata": {
    "id": "SVFWpJl2nI4K"
   },
   "source": [
    "##### format()"
   ]
  },
  {
   "cell_type": "code",
   "execution_count": 15,
   "metadata": {
    "id": "RhTZefUbnI4L"
   },
   "outputs": [
    {
     "name": "stdout",
     "output_type": "stream",
     "text": [
      "What is your age? 33\n",
      "You are 33 Vaishvi and you are getting wiser!\n",
      "33 is a great time in life!!!\n"
     ]
    }
   ],
   "source": [
    "age = input(\"What is your age? \")\n",
    "\n",
    "result_string = \"You are {} {} and you are getting wiser!\" .format(age, name)\n",
    "print(result_string)\n",
    "\n",
    "result_string = f\"{age} is a great time in life!!!\"\n",
    "print(result_string)\n"
   ]
  },
  {
   "cell_type": "markdown",
   "metadata": {
    "id": "APNurDvGnI4L"
   },
   "source": [
    "##### Old Way (python 2)"
   ]
  },
  {
   "cell_type": "code",
   "execution_count": 20,
   "metadata": {
    "id": "UvNHYF_nnI4L"
   },
   "outputs": [
    {
     "name": "stdout",
     "output_type": "stream",
     "text": [
      "You are 33 and you look great for your age!\n"
     ]
    }
   ],
   "source": [
    "result_string2 = \"You are %s and you look great for your age!\" %age\n",
    "print(result_string2)\n"
   ]
  },
  {
   "cell_type": "markdown",
   "metadata": {
    "id": "xWvUVMPXnI4L"
   },
   "source": [
    "# In-Class Exercise 1 <br>\n",
    "<p>Create a format statement that asks for color, year, make, model and prints out the results</p>"
   ]
  },
  {
   "cell_type": "code",
   "execution_count": 23,
   "metadata": {
    "id": "Xk_1Hqs5nI4L"
   },
   "outputs": [
    {
     "name": "stdout",
     "output_type": "stream",
     "text": [
      "What is your name?: Aparna\n",
      "What is color of your car?: Silver\n",
      "What is the year?: 2017\n",
      "What is model is your car?: Altima\n",
      "Aparna, your 2017 Altima's color is Silver.\n"
     ]
    }
   ],
   "source": [
    "name = input(\"What is your name?: \")\n",
    "color = input(\"What is color of your car?: \")\n",
    "year = input(\"What is the year?: \")\n",
    "make = input(\"What is model is your car?: \")\n",
    "result = f\"{name}, your {year} {make}'s color is {color}.\"\n",
    "\n",
    "print(result)"
   ]
  },
  {
   "cell_type": "markdown",
   "metadata": {
    "id": "u8Me0d0OnI4L"
   },
   "source": [
    "### If Statements"
   ]
  },
  {
   "cell_type": "code",
   "execution_count": 30,
   "metadata": {
    "id": "nqOur1kunI4L"
   },
   "outputs": [
    {
     "name": "stdout",
     "output_type": "stream",
     "text": [
      "This ran!\n"
     ]
    }
   ],
   "source": [
    "# Available operators: Greater(>), Less(<),Equal(==)\n",
    "# Greater or Equal(>=), Less or Equal (<=)\n",
    "\n",
    "# Truth Tree:\n",
    "# T && F = F\n",
    "# T && T = T\n",
    "# T || F = T\n",
    "# F || T = T\n",
    "# F || F = F\n",
    "\n",
    "num1 = 5\n",
    "num2 = 10\n",
    "num3 = 0\n",
    "# if num1 == num2:\n",
    "#     print('Equal Values')\n",
    "# else:\n",
    "#     print('Not Equal')\n",
    "if num2 > num1 or num3 > 0:\n",
    "    print('This ran!')\n",
    "elif num1 > num2:\n",
    "    print('Num1 is greater')\n",
    "else:\n",
    "    print('You are here')"
   ]
  },
  {
   "cell_type": "markdown",
   "metadata": {
    "id": "-ER9CRB-nI4M"
   },
   "source": [
    "##### 'is' keyword"
   ]
  },
  {
   "cell_type": "code",
   "execution_count": 31,
   "metadata": {
    "id": "kFI0d_pJnI4M",
    "scrolled": true
   },
   "outputs": [
    {
     "name": "stdout",
     "output_type": "stream",
     "text": [
      "This is the exact number/object\n"
     ]
    }
   ],
   "source": [
    "num3 = 55\n",
    "\n",
    "if num3 == 55:\n",
    "    print(\"This is the exact number/object\")"
   ]
  },
  {
   "cell_type": "markdown",
   "metadata": {
    "id": "FmQfAuWknI4M"
   },
   "source": [
    "##### 'in' keyword"
   ]
  },
  {
   "cell_type": "code",
   "execution_count": 35,
   "metadata": {
    "id": "XrNP5sgcnI4M"
   },
   "outputs": [
    {
     "name": "stdout",
     "output_type": "stream",
     "text": [
      "It is not ring bearer\n"
     ]
    }
   ],
   "source": [
    "#  Check if a character is in a string\n",
    "\n",
    "char_name = \"Frodo Baggins\"\n",
    "\n",
    "if \"F\" in char_name:\n",
    "    print(\"It is not ring bearer\")"
   ]
  },
  {
   "cell_type": "markdown",
   "metadata": {
    "id": "so1coFTcnI4M"
   },
   "source": [
    "##### 'not in' keyword'"
   ]
  },
  {
   "cell_type": "code",
   "execution_count": 33,
   "metadata": {
    "id": "zYUmmngqnI4M"
   },
   "outputs": [
    {
     "name": "stdout",
     "output_type": "stream",
     "text": [
      "a is NOT here....\n"
     ]
    }
   ],
   "source": [
    "sega_char = \"Sonic\"\n",
    "\n",
    "if 'a' not in sega_char:\n",
    "    print('a is NOT here....')"
   ]
  },
  {
   "cell_type": "markdown",
   "metadata": {
    "id": "p7XXr4jynI4M"
   },
   "source": [
    "# In-Class Exercise 2 <br>\n",
    "<p>Ask user for input, check to see if the letter 'p' is in the input</p>"
   ]
  },
  {
   "cell_type": "code",
   "execution_count": 36,
   "metadata": {
    "id": "pXBVLTaVnI4N"
   },
   "outputs": [
    {
     "name": "stdout",
     "output_type": "stream",
     "text": [
      "True\n"
     ]
    }
   ],
   "source": [
    "must_have = \"Experice\"\n",
    "\n",
    "if \"p\" in must_have:\n",
    "    print('True')\n",
    "else: \n",
    "    print('False')"
   ]
  },
  {
   "cell_type": "markdown",
   "metadata": {
    "id": "9ft-wiAdnI4N"
   },
   "source": [
    "## Using 'and'/'or' with If Statements"
   ]
  },
  {
   "cell_type": "code",
   "execution_count": 37,
   "metadata": {
    "id": "Ptv4u09_nI4N"
   },
   "outputs": [
    {
     "name": "stdout",
     "output_type": "stream",
     "text": [
      "True and True\n",
      "True and False\n"
     ]
    }
   ],
   "source": [
    "num_11 = 15\n",
    "num_12 = 3\n",
    "num_13 = 10\n",
    "num_14 = 3\n",
    "\n",
    "# If with 'and' statement\n",
    "if num_11 / 5 ==  num_12 and num_13 - 7 == num_14:\n",
    "    print(\"True and True\")\n",
    "\n",
    "# If with 'or' statement\n",
    "if num_11 > num_12 or num_13 == num_14:\n",
    "    print('True and False')"
   ]
  },
  {
   "cell_type": "markdown",
   "metadata": {
    "id": "IOjOdD9PnI4N"
   },
   "source": [
    "### Elif Statements"
   ]
  },
  {
   "cell_type": "code",
   "execution_count": 39,
   "metadata": {
    "id": "uX3PPFsAnI4N"
   },
   "outputs": [
    {
     "name": "stdout",
     "output_type": "stream",
     "text": [
      "What is your name? Brandon\n",
      "The name is Brandon\n"
     ]
    }
   ],
   "source": [
    "first_name = input('What is your name? ')\n",
    "\n",
    "if first_name == 'Smith':\n",
    "    print('The name is Smith.')\n",
    "elif first_name == \"Brandon\":\n",
    "    print('The name is Brandon')\n",
    "elif first_name != 'Max':\n",
    "    print('The name is NOT Max')\n",
    "else:\n",
    "    print('The name is Max')"
   ]
  },
  {
   "cell_type": "markdown",
   "metadata": {
    "id": "duJ_ca_3nI4N"
   },
   "source": [
    "### Else Statements"
   ]
  },
  {
   "cell_type": "code",
   "execution_count": null,
   "metadata": {
    "id": "v2HXDSJtnI4N"
   },
   "outputs": [],
   "source": [
    "# see above"
   ]
  },
  {
   "cell_type": "markdown",
   "metadata": {
    "id": "WBt1CKC1nI4N"
   },
   "source": [
    "### For Loops"
   ]
  },
  {
   "cell_type": "code",
   "execution_count": 40,
   "metadata": {
    "id": "UyWaTmZanI4N"
   },
   "outputs": [
    {
     "name": "stdout",
     "output_type": "stream",
     "text": [
      "A\n",
      "p\n",
      "a\n",
      "r\n",
      "n\n",
      "a\n",
      " \n",
      "A\n",
      "k\n",
      "u\n",
      "l\n",
      "a\n"
     ]
    }
   ],
   "source": [
    "name = \"Aparna Akula\"\n",
    "\n",
    "for i in name:\n",
    "    print(i)"
   ]
  },
  {
   "cell_type": "markdown",
   "metadata": {
    "id": "BCG8kVf_nI4N"
   },
   "source": [
    "##### Using 'in' keyword"
   ]
  },
  {
   "cell_type": "code",
   "execution_count": null,
   "metadata": {
    "id": "UIciaVhAnI4N"
   },
   "outputs": [],
   "source": [
    "# see above"
   ]
  },
  {
   "cell_type": "markdown",
   "metadata": {
    "id": "RsIgnevQnI4N"
   },
   "source": [
    "##### Continue Statement"
   ]
  },
  {
   "cell_type": "code",
   "execution_count": null,
   "metadata": {
    "id": "CA8QhW-ynI4N"
   },
   "outputs": [],
   "source": [
    "# will continue to next iteration"
   ]
  },
  {
   "cell_type": "code",
   "execution_count": 41,
   "metadata": {
    "id": "qusMYUcenI4O"
   },
   "outputs": [
    {
     "name": "stdout",
     "output_type": "stream",
     "text": [
      "0\n",
      "1\n",
      "2\n",
      "3\n",
      "4\n",
      "6\n",
      "7\n",
      "8\n",
      "9\n",
      "10\n",
      "11\n",
      "12\n",
      "13\n",
      "14\n",
      "15\n",
      "16\n",
      "17\n",
      "18\n",
      "19\n"
     ]
    }
   ],
   "source": [
    "for i in range(20):\n",
    "    if i == 5:\n",
    "        continue\n",
    "    print(i)"
   ]
  },
  {
   "cell_type": "markdown",
   "metadata": {
    "id": "25M1HGkNnI4O"
   },
   "source": [
    "##### Break Statement"
   ]
  },
  {
   "cell_type": "code",
   "execution_count": null,
   "metadata": {
    "id": "sk22CI7ZnI4O"
   },
   "outputs": [],
   "source": [
    "# will break out of current loop"
   ]
  },
  {
   "cell_type": "code",
   "execution_count": 42,
   "metadata": {
    "id": "ncAUBT2znI4O"
   },
   "outputs": [
    {
     "name": "stdout",
     "output_type": "stream",
     "text": [
      "0\n",
      "1\n",
      "2\n",
      "3\n",
      "4\n"
     ]
    }
   ],
   "source": [
    "for i in range(20):\n",
    "    if i == 5:\n",
    "        break\n",
    "    print(i)"
   ]
  },
  {
   "cell_type": "markdown",
   "metadata": {
    "id": "RkFnuD17nI4O"
   },
   "source": [
    "##### Pass Statement"
   ]
  },
  {
   "cell_type": "code",
   "execution_count": null,
   "metadata": {
    "id": "bYEgulvqnI4O"
   },
   "outputs": [],
   "source": [
    "# mostly used as a placeholder, and will continue on same iteration"
   ]
  },
  {
   "cell_type": "code",
   "execution_count": 44,
   "metadata": {
    "id": "wg9sjAfCnI4O"
   },
   "outputs": [],
   "source": [
    "for i in name:\n",
    "    pass"
   ]
  },
  {
   "cell_type": "markdown",
   "metadata": {
    "id": "RIFme77rnI4O"
   },
   "source": [
    "##### Double For Loops"
   ]
  },
  {
   "cell_type": "code",
   "execution_count": 45,
   "metadata": {
    "id": "Pg_9wrn7nI4O"
   },
   "outputs": [
    {
     "name": "stdout",
     "output_type": "stream",
     "text": [
      "i =  0 j =  0\n",
      "i =  0 j =  1\n",
      "i =  0 j =  2\n",
      "i =  0 j =  3\n",
      "i =  0 j =  4\n",
      "i =  1 j =  0\n",
      "i =  1 j =  1\n",
      "i =  1 j =  2\n",
      "i =  1 j =  3\n",
      "i =  1 j =  4\n",
      "i =  2 j =  0\n",
      "i =  2 j =  1\n",
      "i =  2 j =  2\n",
      "i =  2 j =  3\n",
      "i =  2 j =  4\n",
      "i =  3 j =  0\n",
      "i =  3 j =  1\n",
      "i =  3 j =  2\n",
      "i =  3 j =  3\n",
      "i =  3 j =  4\n",
      "i =  4 j =  0\n",
      "i =  4 j =  1\n",
      "i =  4 j =  2\n",
      "i =  4 j =  3\n",
      "i =  4 j =  4\n"
     ]
    }
   ],
   "source": [
    "for i in range(5):\n",
    "    for j in range(5):\n",
    "        print('i = ', i, 'j = ', j)"
   ]
  },
  {
   "cell_type": "markdown",
   "metadata": {
    "id": "pcW629Z2nI4O"
   },
   "source": [
    "### While Loops"
   ]
  },
  {
   "cell_type": "code",
   "execution_count": 46,
   "metadata": {
    "id": "R9aIwlJvnI4O"
   },
   "outputs": [
    {
     "name": "stdout",
     "output_type": "stream",
     "text": [
      "0\n",
      "1\n",
      "2\n",
      "3\n",
      "4\n",
      "5\n",
      "6\n",
      "7\n",
      "8\n",
      "9\n"
     ]
    }
   ],
   "source": [
    "num = 0\n",
    "\n",
    "while num < 10:\n",
    "    print(num)\n",
    "    num += 1"
   ]
  },
  {
   "cell_type": "markdown",
   "metadata": {
    "id": "A6nQ3VSjnI4O"
   },
   "source": [
    "##### Looping 'While True'"
   ]
  },
  {
   "cell_type": "code",
   "execution_count": 47,
   "metadata": {
    "id": "8cSsiCA5nI4O"
   },
   "outputs": [
    {
     "name": "stdout",
     "output_type": "stream",
     "text": [
      "Infinite Loop\n",
      "Would you like to stop? No\n",
      "Infinite Loop\n",
      "Would you like to stop? Yes\n"
     ]
    }
   ],
   "source": [
    "game_over = True\n",
    "\n",
    "while game_over:\n",
    "    print('Infinite Loop')\n",
    "    user_input = input('Would you like to stop? ')\n",
    "    if user_input == 'Yes':\n",
    "        game_over = False"
   ]
  },
  {
   "cell_type": "markdown",
   "metadata": {
    "id": "X-75FrMhnI4O"
   },
   "source": [
    "##### While & For Loops Used Together"
   ]
  },
  {
   "cell_type": "code",
   "execution_count": 48,
   "metadata": {
    "id": "84RofRFznI4P"
   },
   "outputs": [
    {
     "name": "stdout",
     "output_type": "stream",
     "text": [
      "\n",
      "While loop iteration: 0\n",
      "For loop iteration:  0\n",
      "For loop iteration:  1\n",
      "\n",
      "While loop iteration: 1\n",
      "For loop iteration:  0\n",
      "For loop iteration:  1\n",
      "\n",
      "While loop iteration: 2\n",
      "For loop iteration:  0\n",
      "For loop iteration:  1\n",
      "\n",
      "While loop iteration: 3\n",
      "For loop iteration:  0\n",
      "For loop iteration:  1\n",
      "\n",
      "While loop iteration: 4\n",
      "For loop iteration:  0\n",
      "For loop iteration:  1\n"
     ]
    }
   ],
   "source": [
    "num = 0\n",
    "\n",
    "while num < 5:\n",
    "    print(\"\\nWhile loop iteration: \" + str(num))\n",
    "    \n",
    "    for i in range(2):\n",
    "        print(\"For loop iteration: \", str(i))\n",
    "    \n",
    "    num += 1"
   ]
  },
  {
   "cell_type": "markdown",
   "metadata": {
    "id": "7eHsWHZdnI4P"
   },
   "source": [
    "### Built-In Functions"
   ]
  },
  {
   "cell_type": "markdown",
   "metadata": {
    "id": "ngV5HF_bnI4P"
   },
   "source": [
    "##### range()"
   ]
  },
  {
   "cell_type": "code",
   "execution_count": 49,
   "metadata": {
    "id": "T-bVwoonnI4P"
   },
   "outputs": [
    {
     "name": "stdout",
     "output_type": "stream",
     "text": [
      "1\n",
      "4\n",
      "7\n",
      "10\n",
      "13\n",
      "16\n",
      "19\n"
     ]
    }
   ],
   "source": [
    "# range(Start, stop, step)\n",
    "\n",
    "for i in range(1, 20, 3):\n",
    "    print(i)"
   ]
  },
  {
   "cell_type": "markdown",
   "metadata": {
    "id": "LzaEAdI2nI4P"
   },
   "source": [
    "##### len()"
   ]
  },
  {
   "cell_type": "code",
   "execution_count": 50,
   "metadata": {
    "id": "ehR51LpUnI4P"
   },
   "outputs": [
    {
     "name": "stdout",
     "output_type": "stream",
     "text": [
      "Give me the name of your favorite book: Bhagavad Gita\n",
      "13\n"
     ]
    }
   ],
   "source": [
    "name = input(\"Give me the name of your favorite book: \")\n",
    "\n",
    "length = len(name)\n",
    "print(length)"
   ]
  },
  {
   "cell_type": "markdown",
   "metadata": {
    "id": "S0k4MlkBnI4P"
   },
   "source": [
    "##### help()"
   ]
  },
  {
   "cell_type": "code",
   "execution_count": 51,
   "metadata": {
    "id": "mkn7sTxunI4P"
   },
   "outputs": [
    {
     "name": "stdout",
     "output_type": "stream",
     "text": [
      "Help on built-in function len in module builtins:\n",
      "\n",
      "len(obj, /)\n",
      "    Return the number of items in a container.\n",
      "\n"
     ]
    }
   ],
   "source": [
    "help(len)"
   ]
  },
  {
   "cell_type": "markdown",
   "metadata": {
    "id": "2VLs3yrXnI4P"
   },
   "source": [
    "##### isinstance()"
   ]
  },
  {
   "cell_type": "code",
   "execution_count": 52,
   "metadata": {
    "id": "S1GtITDonI4P"
   },
   "outputs": [
    {
     "name": "stdout",
     "output_type": "stream",
     "text": [
      "4.5 is a float!\n"
     ]
    }
   ],
   "source": [
    "# Check a variable to find out what object family (or data type) it belongs to\n",
    "# isinstance(var, type)\n",
    "num = 4.5\n",
    "if isinstance(num, int):\n",
    "    print(f\"{num} is an int!\")\n",
    "else:\n",
    "    print(f\"{num} is a float!\")"
   ]
  },
  {
   "cell_type": "markdown",
   "metadata": {
    "id": "W6Ril1wMnI4P"
   },
   "source": [
    "##### abs()"
   ]
  },
  {
   "cell_type": "code",
   "execution_count": 53,
   "metadata": {
    "id": "juaNNBY-nI4P"
   },
   "outputs": [
    {
     "name": "stdout",
     "output_type": "stream",
     "text": [
      "5\n"
     ]
    }
   ],
   "source": [
    "# |-5| = 5 \n",
    "\n",
    "print(abs(-5))"
   ]
  },
  {
   "cell_type": "markdown",
   "metadata": {
    "id": "EipW_6lHnI4P"
   },
   "source": [
    "### Try and Except"
   ]
  },
  {
   "cell_type": "code",
   "execution_count": 57,
   "metadata": {
    "id": "QOLkX7X2nI4Q"
   },
   "outputs": [
    {
     "name": "stdout",
     "output_type": "stream",
     "text": [
      "Guess a number23\n",
      "Your name is 23\n"
     ]
    }
   ],
   "source": [
    "# Use this to log out graceful and useful error messages\n",
    "# Does not stop the program! Neato!\n",
    "\n",
    "try:\n",
    "    input_num = int(input('Guess a number'))\n",
    "    print('Your name is ' + str(input_num))\n",
    "except:\n",
    "    print(\"That didn't work! Change your input to a number!\")"
   ]
  },
  {
   "cell_type": "markdown",
   "metadata": {
    "id": "CmNnGdTpnI4Q"
   },
   "source": [
    "### Lists"
   ]
  },
  {
   "cell_type": "markdown",
   "metadata": {
    "id": "_ejVfgINnI4Q"
   },
   "source": [
    "##### Declaring Lists"
   ]
  },
  {
   "cell_type": "code",
   "execution_count": 58,
   "metadata": {
    "id": "6ZlcCxF1nI4Q"
   },
   "outputs": [
    {
     "name": "stdout",
     "output_type": "stream",
     "text": [
      "['Max', 'Cindy', 'Kathy', 'bob', 'Nate']\n"
     ]
    }
   ],
   "source": [
    "list_1 = []\n",
    "\n",
    "names = ['Max', 'Cindy', 'Kathy', \"bob\", 'Nate']\n",
    "print(names)"
   ]
  },
  {
   "cell_type": "markdown",
   "metadata": {
    "id": "4idYp3sdnI4Q"
   },
   "source": [
    "##### Indexing a List"
   ]
  },
  {
   "cell_type": "code",
   "execution_count": 59,
   "metadata": {
    "id": "QTCVh6zenI4Q"
   },
   "outputs": [
    {
     "name": "stdout",
     "output_type": "stream",
     "text": [
      "Cindy\n",
      "['Cindy', 'Kathy', 'bob', 'Nate']\n",
      "['Max', 'Cindy']\n",
      "['Cindy', 'bob']\n",
      "['Nate', 'bob', 'Kathy', 'Cindy', 'Max']\n"
     ]
    }
   ],
   "source": [
    "# list_name[start: stop: step]\n",
    "\n",
    "# Single Index\n",
    "print(names[1])\n",
    "\n",
    "# Print starting at index 1 going to the end\n",
    "print(names[1:])\n",
    "\n",
    "# Print starting at the beginning of a list up until a number\n",
    "print(names[:2])\n",
    "\n",
    "# Print starting at index 1 and going up by 2 in each iteration\n",
    "print(names[1::2])\n",
    "\n",
    "# Print starting at the back and display in reverse order\n",
    "print(names[::-1])"
   ]
  },
  {
   "cell_type": "markdown",
   "metadata": {
    "id": "IuMYw0nvnI4Q"
   },
   "source": [
    "##### .append()"
   ]
  },
  {
   "cell_type": "code",
   "execution_count": 60,
   "metadata": {
    "id": "sTrDICCRnI4Q"
   },
   "outputs": [
    {
     "name": "stdout",
     "output_type": "stream",
     "text": [
      "['Max', 'Cindy', 'Kathy', 'bob', 'Nate', 'Aparna']\n"
     ]
    }
   ],
   "source": [
    "names.append('Aparna')\n",
    "print(names)"
   ]
  },
  {
   "cell_type": "markdown",
   "metadata": {
    "id": "UzKP2wxXnI4Q"
   },
   "source": [
    "##### .insert()"
   ]
  },
  {
   "cell_type": "code",
   "execution_count": 61,
   "metadata": {
    "id": "-yXMRKnAnI4Q"
   },
   "outputs": [
    {
     "name": "stdout",
     "output_type": "stream",
     "text": [
      "['Max', 'Cindy', 'Kathy', 'Devon', 'bob', 'Nate', 'Aparna']\n"
     ]
    }
   ],
   "source": [
    "names.insert(3, 'Devon')\n",
    "print(names)"
   ]
  },
  {
   "cell_type": "markdown",
   "metadata": {
    "id": "xjukNbcNnI4Q"
   },
   "source": [
    "##### .pop()"
   ]
  },
  {
   "cell_type": "code",
   "execution_count": 62,
   "metadata": {
    "id": "nw-RysdInI4Q"
   },
   "outputs": [
    {
     "name": "stdout",
     "output_type": "stream",
     "text": [
      "Kathy\n",
      "['Max', 'Cindy', 'Devon', 'bob', 'Nate', 'Aparna']\n"
     ]
    }
   ],
   "source": [
    "# Defaults to the last value if no parameter is given\n",
    "# Pop returns the element that was removed in casee you want to assign it to a variable\n",
    "\n",
    "my_name = names.pop(2)\n",
    "print(my_name)\n",
    "print(names)"
   ]
  },
  {
   "cell_type": "markdown",
   "metadata": {
    "id": "o5trD09bnI4Q"
   },
   "source": [
    "\n",
    "##### .remove()"
   ]
  },
  {
   "cell_type": "code",
   "execution_count": 63,
   "metadata": {
    "id": "X_TBFnAlnI4Q"
   },
   "outputs": [
    {
     "name": "stdout",
     "output_type": "stream",
     "text": [
      "['Max', 'Cindy', 'Devon', 'bob', 'Nate']\n"
     ]
    }
   ],
   "source": [
    "# Value to be removed rather than index\n",
    "# names.remove('bob')\n",
    "# print(names)\n",
    "\n",
    "while 'Aparna' in names:\n",
    "    names.remove('Aparna')\n",
    "print(names)"
   ]
  },
  {
   "cell_type": "markdown",
   "metadata": {
    "id": "BAl82L-FnI4Q"
   },
   "source": [
    "##### del()"
   ]
  },
  {
   "cell_type": "code",
   "execution_count": 64,
   "metadata": {
    "id": "cuhjHzs9nI4Q"
   },
   "outputs": [
    {
     "name": "stdout",
     "output_type": "stream",
     "text": [
      "['Max', 'Devon', 'bob', 'Nate']\n"
     ]
    }
   ],
   "source": [
    "# Goes by index, rather than value\n",
    "# Be careful with del, it can cause indexing errors if not used carefully\n",
    "\n",
    "del(names[1])\n",
    "print(names)"
   ]
  },
  {
   "cell_type": "markdown",
   "metadata": {
    "id": "uAJ3qgwHnI4Q"
   },
   "source": [
    "##### Concatenating Two Lists"
   ]
  },
  {
   "cell_type": "code",
   "execution_count": 65,
   "metadata": {
    "id": "5r7IIcyqnI4R"
   },
   "outputs": [
    {
     "name": "stdout",
     "output_type": "stream",
     "text": [
      "[0, 1, 2, 3, 4, 5]\n"
     ]
    }
   ],
   "source": [
    "# Will append two lists together, will NOT add the values!!\n",
    "\n",
    "list_2 = [0, 1, 2]\n",
    "list_3 = [3, 4, 5]\n",
    "\n",
    "large_list = list_2 + list_3\n",
    "print(large_list)"
   ]
  },
  {
   "cell_type": "markdown",
   "metadata": {
    "id": "CpyN55wwnI4R"
   },
   "source": [
    "##### Lists Within Lists"
   ]
  },
  {
   "cell_type": "code",
   "execution_count": 69,
   "metadata": {
    "id": "2TyqdVixnI4R"
   },
   "outputs": [
    {
     "name": "stdout",
     "output_type": "stream",
     "text": [
      "['Max', 'sam', 'Josh', ['Sally', ['Sue', 'Jim'], 'Tameka']]\n",
      "Jim\n"
     ]
    }
   ],
   "source": [
    "# List can hold ANY type of other element! Including other lists!\n",
    "# They can go as deep as you want; this is called nested lists\n",
    "\n",
    "names = [\"Max\", \"sam\", \"Josh\", [\"Sally\", [\"Sue\", \"Jim\"], \"Tameka\"]]\n",
    "print(names)\n",
    "print(names[3][1][1])"
   ]
  },
  {
   "cell_type": "markdown",
   "metadata": {
    "id": "s_3T3_R3nI4R"
   },
   "source": [
    "##### Looping Through Lists"
   ]
  },
  {
   "cell_type": "code",
   "execution_count": 70,
   "metadata": {
    "id": "STwYKXXMnI4R"
   },
   "outputs": [
    {
     "name": "stdout",
     "output_type": "stream",
     "text": [
      "Max\n",
      "sam\n",
      "Josh\n",
      "['Sally', ['Sue', 'Jim'], 'Tameka']\n",
      "Max\n",
      "sam\n",
      "Josh\n",
      "['Sally', ['Sue', 'Jim'], 'Tameka']\n"
     ]
    }
   ],
   "source": [
    "# Two ways to loop through a list! One is by index; the other is by using the 'in' keyword\n",
    "\n",
    "# By index\n",
    "for i in range(len(names)):\n",
    "    print(names[i])\n",
    "    \n",
    "# Loop with 'in'\n",
    "for i in names:\n",
    "    print(i)"
   ]
  },
  {
   "cell_type": "markdown",
   "metadata": {
    "id": "xksd5MUjnI4R"
   },
   "source": [
    "## Exercise #1 <br>\n",
    "<p>Cube Number Test... Print out all cubed numbers up to the total value 1000. Meaning that if the cubed number is over 1000 break the loop.</p>"
   ]
  },
  {
   "cell_type": "code",
   "execution_count": 71,
   "metadata": {
    "id": "xSb1avJynI4R"
   },
   "outputs": [
    {
     "name": "stdout",
     "output_type": "stream",
     "text": [
      "0\n",
      "1\n",
      "8\n",
      "27\n",
      "64\n",
      "125\n",
      "216\n",
      "343\n",
      "512\n",
      "729\n",
      "1000\n"
     ]
    }
   ],
   "source": [
    "for i in range(100):\n",
    "    num = i**3\n",
    "    if num > 1000:\n",
    "        break\n",
    "    else:\n",
    "        print(num)"
   ]
  },
  {
   "cell_type": "markdown",
   "metadata": {
    "id": "mJmgrGmqnI4R"
   },
   "source": [
    "## Exercise #2 <br>\n",
    "<p>Get first prime numbers up to 100</p>"
   ]
  },
  {
   "cell_type": "code",
   "execution_count": 73,
   "metadata": {
    "id": "8nEjd9LQnI4R"
   },
   "outputs": [
    {
     "name": "stdout",
     "output_type": "stream",
     "text": [
      "3\n",
      "5\n",
      "7\n",
      "9\n",
      "11\n",
      "13\n",
      "15\n",
      "17\n",
      "19\n",
      "21\n",
      "23\n",
      "25\n",
      "27\n",
      "29\n",
      "31\n",
      "33\n",
      "35\n",
      "37\n",
      "39\n",
      "41\n",
      "43\n",
      "45\n",
      "47\n",
      "49\n",
      "51\n",
      "53\n",
      "55\n",
      "57\n",
      "59\n",
      "61\n",
      "63\n",
      "65\n",
      "67\n",
      "69\n",
      "71\n",
      "73\n",
      "75\n",
      "77\n",
      "79\n",
      "81\n",
      "83\n",
      "85\n",
      "87\n",
      "89\n",
      "91\n",
      "93\n",
      "95\n",
      "97\n",
      "99\n"
     ]
    }
   ],
   "source": [
    "# HINT::\n",
    "# An else after an if runs if the if didn’t\n",
    "# An else after a for runs if the for didn’t break\n",
    "\n",
    "for a in range(100):\n",
    "    num = True\n",
    "    for b in range(2, a):\n",
    "        if a % b == 0:\n",
    "            num = False\n",
    "        if num == True:\n",
    "            print(a)\n",
    "            break\n",
    "\n"
   ]
  },
  {
   "cell_type": "markdown",
   "metadata": {
    "id": "PwH96tqFnI4R"
   },
   "source": [
    "# Exercise 3 <br>\n",
    "<p>Take in a users input for their age, if they are younger than 18 print kids, if they're 18 to 65 print adults, else print seniors</p>"
   ]
  },
  {
   "cell_type": "code",
   "execution_count": 74,
   "metadata": {
    "id": "9sar7hadnI4R"
   },
   "outputs": [
    {
     "name": "stdout",
     "output_type": "stream",
     "text": [
      "What is your age? 33\n",
      "Adults\n"
     ]
    }
   ],
   "source": [
    "age = int(input(\"What is your age? \"))\n",
    "\n",
    "# If a person is younger than 18\n",
    "if age <= 18:\n",
    "    print('Kids')\n",
    "\n",
    "# If a person is 18 to 65\n",
    "if age >= 18 and age <= 65:\n",
    "    print('Adults')\n",
    "else:\n",
    "  if age > 65:\n",
    "    print('Seniors')"
   ]
  }
 ],
 "metadata": {
  "colab": {
   "provenance": []
  },
  "kernelspec": {
   "display_name": "Python 3 (ipykernel)",
   "language": "python",
   "name": "python3"
  },
  "language_info": {
   "codemirror_mode": {
    "name": "ipython",
    "version": 3
   },
   "file_extension": ".py",
   "mimetype": "text/x-python",
   "name": "python",
   "nbconvert_exporter": "python",
   "pygments_lexer": "ipython3",
   "version": "3.11.5"
  }
 },
 "nbformat": 4,
 "nbformat_minor": 1
}
